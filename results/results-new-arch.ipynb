{
 "metadata": {
  "language_info": {
   "codemirror_mode": {
    "name": "ipython",
    "version": 3
   },
   "file_extension": ".py",
   "mimetype": "text/x-python",
   "name": "python",
   "nbconvert_exporter": "python",
   "pygments_lexer": "ipython3",
   "version": "3.8.4-candidate"
  },
  "orig_nbformat": 2,
  "kernelspec": {
   "name": "python38464bit91a273bad08b4eae80268dabe9fc5346",
   "display_name": "Python 3.8.4 64-bit"
  }
 },
 "nbformat": 4,
 "nbformat_minor": 2,
 "cells": [
  {
   "cell_type": "markdown",
   "metadata": {},
   "source": [
    "### Selected model is noaug-grad, here are the results."
   ]
  },
  {
   "cell_type": "code",
   "execution_count": 8,
   "metadata": {},
   "outputs": [],
   "source": [
    "from torch import nn\n",
    "import pretrainedmodels\n",
    "import pandas as pd\n",
    "import torch\n",
    "import numpy as np"
   ]
  },
  {
   "cell_type": "code",
   "execution_count": 10,
   "metadata": {},
   "outputs": [
    {
     "output_type": "execute_result",
     "data": {
      "text/plain": "<All keys matched successfully>"
     },
     "metadata": {},
     "execution_count": 10
    }
   ],
   "source": [
    "#load xception model\n",
    "import pretrainedmodels\n",
    "\n",
    "model_name = 'xception' # could be fbresnet152 or inceptionresnetv2\n",
    "model = pretrainedmodels.__dict__[model_name](num_classes=1000, pretrained='imagenet')\n",
    "#add last layer with 3 classes\n",
    "model.last_linear = nn.Sequential(nn.Dropout(p=0.5),nn.Linear(2048,1000),nn.Dropout(p=0.5),nn.Linear(1000,3),nn.Softmax())\n",
    "#put model on gpu\n",
    "model.cuda()\n",
    "#load trained model with weights\n",
    "model.load_state_dict(torch.load('new_arch_model.pt'))"
   ]
  },
  {
   "cell_type": "code",
   "execution_count": 11,
   "metadata": {
    "tags": []
   },
   "outputs": [],
   "source": [
    "#create empty pandas data frame with specified colunm names.\n",
    "results = pd.DataFrame(columns=['Id','task_1','task_2'])\n"
   ]
  },
  {
   "cell_type": "code",
   "execution_count": 12,
   "metadata": {
    "tags": []
   },
   "outputs": [
    {
     "output_type": "stream",
     "name": "stdout",
     "text": "{'melanoma': 0, 'nevus': 1, 'seborrheic_keratosis': 2}\n"
    }
   ],
   "source": [
    "#load test images\n",
    "from torchvision import datasets\n",
    "from torch.utils.data.dataloader import DataLoader\n",
    "from torchvision import transforms\n",
    "#resize,crop,transfer to pytorch tensor and normalize the images\n",
    "transform = transforms.Compose([transforms.Resize(299),\n",
    "                                     transforms.CenterCrop(299),\n",
    "                                        transforms.ToTensor(),\n",
    "                                        transforms.Normalize((0.485, 0.456, 0.406), \n",
    "                                             (0.229, 0.224, 0.225))])                                        \n",
    "test_data = datasets.ImageFolder(root = 'data/test',transform = transform)\n",
    "test_loader = DataLoader(test_data,batch_size = 1,shuffle = False,num_workers = 0)\n",
    "print(test_data.class_to_idx)"
   ]
  },
  {
   "cell_type": "code",
   "execution_count": 13,
   "metadata": {
    "tags": []
   },
   "outputs": [
    {
     "output_type": "stream",
     "name": "stdout",
     "text": "Id task_1 task_2\n0                data\\test\\melanoma\\ISIC_0012258.jpg    NaN    NaN\n1                data\\test\\melanoma\\ISIC_0012356.jpg    NaN    NaN\n2                data\\test\\melanoma\\ISIC_0012369.jpg    NaN    NaN\n3                data\\test\\melanoma\\ISIC_0012395.jpg    NaN    NaN\n4                data\\test\\melanoma\\ISIC_0012425.jpg    NaN    NaN\n..                                               ...    ...    ...\n595  data\\test\\seborrheic_keratosis\\ISIC_0014647.jpg    NaN    NaN\n596  data\\test\\seborrheic_keratosis\\ISIC_0014648.jpg    NaN    NaN\n597  data\\test\\seborrheic_keratosis\\ISIC_0014649.jpg    NaN    NaN\n598  data\\test\\seborrheic_keratosis\\ISIC_0014652.jpg    NaN    NaN\n599  data\\test\\seborrheic_keratosis\\ISIC_0014653.jpg    NaN    NaN\n\n[600 rows x 3 columns]\n"
    }
   ],
   "source": [
    "#get all pictures id's\n",
    "import glob\n",
    "test_dir = glob.glob('data/*/*/*')\n",
    "#add to pandas dataframe\n",
    "results['Id'] = test_dir\n",
    "print(results)"
   ]
  },
  {
   "cell_type": "code",
   "execution_count": 14,
   "metadata": {},
   "outputs": [],
   "source": [
    "#define criterion\n",
    "criterion = nn.CrossEntropyLoss()\n"
   ]
  },
  {
   "cell_type": "code",
   "execution_count": 15,
   "metadata": {
    "tags": []
   },
   "outputs": [
    {
     "output_type": "stream",
     "name": "stdout",
     "text": "Test Loss: 0.897182\n\n\nTest Accuracy: 70% (422/600)\n"
    }
   ],
   "source": [
    "#make predictions\n",
    "task_1 = []\n",
    "task_2 = []\n",
    "def test(loaders, model, criterion, use_cuda):\n",
    "    #make list probalities for melanoma (task_1) and seborrheic keratosis (task_2)\n",
    "    \n",
    "    # monitor test loss and accuracy\n",
    "    test_loss = 0.\n",
    "    correct = 0.\n",
    "    total = 0.\n",
    "\n",
    "    model.eval()\n",
    "    for batch_idx, (data, target) in enumerate(loaders):\n",
    "        with torch.no_grad():\n",
    "            # move to GPU\n",
    "            if use_cuda:\n",
    "                data, target = data.cuda(), target.cuda()\n",
    "            # forward pass: compute predicted outputs by passing inputs to the model\n",
    "            output = model(data)\n",
    "            #extract melanoma and seborrheic_keratosis_proba probabilities\n",
    "            melanoma_proba = output[0].tolist()[0]\n",
    "            seborrheic_keratosis_proba = output[0].tolist()[1]\n",
    "            \n",
    "            #append melanoma probablilies\n",
    "            task_1.append(melanoma_proba)\n",
    "            #append seborrheic_keratosis probablilies\n",
    "            task_2.append(seborrheic_keratosis_proba)\n",
    "       \n",
    "\n",
    "            \n",
    "\n",
    "            # calculate the loss\n",
    "            loss = criterion(output, target)\n",
    "            # update average test loss \n",
    "            test_loss = test_loss + ((1 / (batch_idx + 1)) * (loss.data - test_loss))\n",
    "            # convert output probabilities to predicted class\n",
    "            pred = output.data.max(1, keepdim=True)[1]\n",
    "            # compare predictions to true label\n",
    "            correct += np.sum(np.squeeze(pred.eq(target.data.view_as(pred))).cpu().numpy())\n",
    "            total += data.size(0)\n",
    "            \n",
    "    print('Test Loss: {:.6f}\\n'.format(test_loss))\n",
    "\n",
    "    print('\\nTest Accuracy: %2d%% (%2d/%2d)' % (\n",
    "        100. * correct / total, correct, total))\n",
    "\n",
    "# call test function    \n",
    "test(test_loader, model, criterion, True)"
   ]
  },
  {
   "cell_type": "code",
   "execution_count": 16,
   "metadata": {
    "tags": []
   },
   "outputs": [
    {
     "output_type": "stream",
     "name": "stdout",
     "text": "Id    task_1    task_2\n0                data\\test\\melanoma\\ISIC_0012258.jpg  0.207400  0.442475\n1                data\\test\\melanoma\\ISIC_0012356.jpg  0.132192  0.392880\n2                data\\test\\melanoma\\ISIC_0012369.jpg  0.428323  0.488346\n3                data\\test\\melanoma\\ISIC_0012395.jpg  0.409703  0.485833\n4                data\\test\\melanoma\\ISIC_0012425.jpg  0.203354  0.672042\n..                                               ...       ...       ...\n595  data\\test\\seborrheic_keratosis\\ISIC_0014647.jpg  0.013391  0.250433\n596  data\\test\\seborrheic_keratosis\\ISIC_0014648.jpg  0.000345  0.006278\n597  data\\test\\seborrheic_keratosis\\ISIC_0014649.jpg  0.000395  0.011898\n598  data\\test\\seborrheic_keratosis\\ISIC_0014652.jpg  0.096719  0.215223\n599  data\\test\\seborrheic_keratosis\\ISIC_0014653.jpg  0.002714  0.019091\n\n[600 rows x 3 columns]\n"
    }
   ],
   "source": [
    "#add those lists as entries to our task_1 and task_2 columns\n",
    "\n",
    "results['task_1'] = task_1\n",
    "results['task_2'] = task_2\n",
    "print(results)"
   ]
  },
  {
   "cell_type": "code",
   "execution_count": 17,
   "metadata": {},
   "outputs": [],
   "source": [
    "#convert the pandas data frame to a csv\n",
    "results.to_csv('predictions.csv')"
   ]
  },
  {
   "cell_type": "markdown",
   "metadata": {},
   "source": [
    "# Results\n",
    "This model performed a better in terms of classifying skin lesions as malginant. A 0.3 threshold was set leading to a 63% accuracy rate in both correct benign and correct malignant classifying. That number however is still below the dermatologist, so we have more work to do.\n",
    "\n",
    "\n",
    "<img src=\"results/new_arch_roc.png\" alt=\"first_try\" width=\"500\"/>                <img src=\"results/new_arch_confusion.png\" alt=\"new_arch_confusion\" width=\"500\"/>                               \n"
   ]
  },
  {
   "cell_type": "code",
   "execution_count": null,
   "metadata": {},
   "outputs": [],
   "source": []
  }
 ]
}
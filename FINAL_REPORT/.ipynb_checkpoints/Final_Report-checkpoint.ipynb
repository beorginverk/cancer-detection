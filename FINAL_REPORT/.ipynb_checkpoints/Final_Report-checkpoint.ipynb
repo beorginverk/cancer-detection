{
 "cells": [
  {
   "cell_type": "markdown",
   "metadata": {},
   "source": [
    "# Digitalizing Skin Cancer Detection with PyTorch.\n",
    "*Sean Ashley (https://github.com/sean-ashley)*"
   ]
  },
  {
   "cell_type": "markdown",
   "metadata": {},
   "source": [
    "<figure>                                                                                                             \n",
    "  <img src=\"images/Melanoma.jpg\" alt=\"Melanoma\" width=\"500\"/> \n",
    "  <img src=\"images/melanoma2.bmp\" alt=\"Melanoma\" width=\"500\"/>                                           \n",
    "  <figcaption>Pictures of Melanoma</figcaption>\n",
    "</figure>                                                "
   ]
  },
  {
   "cell_type": "markdown",
   "metadata": {},
   "source": [
    "## Introduction\n",
    "<p>Skin cancer is the most common form of cancer, with 1 in 5 Americans developping it by the time they reach 70 years old. Over 2 people die of skin cancer in the US every hour.<sup>[1]</sup> \n",
    "Early detection is key in saving peoples lives with skin cancer, with the early detection 5 year survival rate being 99%<sup>[1]</sup>. Dermatologist have to look at patients one by one, and must assess by eye whether or not a blemish is malignant or benign. Dermatologist's have around a 66% accuracy rate in assessing 752 different skin diseases, while CNN's, such as the one detailed in *Dermatologist-level classification of skin cancer with deep neural networks* published in Nature have achieved greater accuracy levels then dermatologist's, around 72.1%<sup>[2]</sup>.<br>\n",
    "<p>By converting cancer detection to easily deployable software, you could allow people to get accurate cancer testing at home, saving resources and time. By making cancer detection more accesible, people would be more likely to get tested, saving lives in the process. Below I will detail my process and results from a melanoma (malignant), nevus (benign) , and seborrheic keratosis (benign) ,detector model using Convoltional Neural Networks.<br>"
   ]
  },
  {
   "cell_type": "markdown",
   "metadata": {},
   "source": [
    "## Process"
   ]
  },
  {
   "cell_type": "markdown",
   "metadata": {},
   "source": [
    "### Dataset\n",
    "The data set that was used was retrieved from Udacity's Dermatologist AI mini project. The training set contains 374 pictures of labelled images of melanoma, 1372 labelled image of nevus, and 254 labelled images of seborrheic keratosis. The validation and testing set each contain about 20% of the total images in the training set with similiar ratios of melanoma to nevus to seborrheic keratosis. The image was loaded into PyTorch using the ImageFolder object.\n",
    "\n",
    "### Model Architecture\n",
    "The model architecture that was used was the EfficientNet model detailed in the article *EfficientNet: Rethinking Model Scaling for Convolutional Neural Networks* by Mingxing Tan, and Quoc V. Le<sup>[3]</sup>. This architecture was chosen because it is among the highest ranking models in the *ImageNet* contest<sup>[4]</sup> and is extremely accurate. The model architecture was used completly unaltered except for the last dropout and linear layer. The last dropout layer was upped to 50% probability, and the last linear layer was adjusted to three output nodes to fit the classifying task. The weights were initialized as the *ImageNet* competition weights, which was provided in PyTorch by GitHub user lukemelas<sup>[5]</sup>. Gradient descent was enabled for all layers, so the weights of the layers were all altered during the training process to better fit the task of classifying various skin lesions.\n",
    "<figure>                                                                                                             \n",
    "  <img src=\"images/efficient_net.png\" alt=\"efficient_net\" width=\"1000\"/>                                          \n",
    "  <figcaption>EfficientNet Model Architecture</figcaption>\n",
    "</figure>\n",
    "\n",
    "### Optimizer\n",
    "\n",
    "### Loss Function\n",
    "\n",
    "### Data Augmentation\n",
    "\n",
    "### Number of Epochs\n",
    "\n",
    "### Early Stopping\n"
   ]
  },
  {
   "cell_type": "code",
   "execution_count": null,
   "metadata": {},
   "outputs": [],
   "source": []
  }
 ],
 "metadata": {
  "kernelspec": {
   "display_name": "Python 3",
   "language": "python",
   "name": "python3"
  },
  "language_info": {
   "codemirror_mode": {
    "name": "ipython",
    "version": 3
   },
   "file_extension": ".py",
   "mimetype": "text/x-python",
   "name": "python",
   "nbconvert_exporter": "python",
   "pygments_lexer": "ipython3",
   "version": "3.7.6"
  }
 },
 "nbformat": 4,
 "nbformat_minor": 2
}
